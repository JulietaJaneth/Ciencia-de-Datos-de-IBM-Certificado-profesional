{
 "cells": [
  {
   "cell_type": "markdown",
   "id": "90885ab2",
   "metadata": {},
   "source": [
    "# Proyecto Capstone\n",
    "\n",
    "\n",
    "## Evaluación del recurso eólico\n",
    "\n",
    "*Julieta Janeth Chávez Bartolo*\n",
    "\n",
    "\n",
    "\n",
    "### Introducción/Problema Comercial \n",
    "Hoy día la producción de energía eólica ya parece ser un negocio viable, pues sus costos han disminuido considerablemente gracias al desarrollo tecnológico y a la implementación de proyectos para la evaluación del recurso.Sin embargo el costo de un proyecto de instalación de turbina eólica sigue siendo alto en cualquier sentido, desde la máquina hasta la mano de obra. Por ello es necesaria una correcta evaluación del recurso eólico en la zona  antes de aventurarnos a instalar una turbina ya que de no hacerlo las pérdidas económicas podrían ser devastadoras e irreversibles.\n",
    "\n",
    "\n",
    "### Datos\n",
    "Cuento con datos de un aerogenerador en Ilinoins, EE.UU en el municipio de Buckhart con coordenadas *39.693397,-89.266169*. Con estas coordenadas utilizaré Foursquare para analizar la zona y su distribución geográfica. Los datos del aerogenerados principalmente son de velocidad del viento. Además será necesario para la evaluación la curva de potencia de un aerogenerador, supongamos que el que quisieramos poner es un modelo Vestas 2MW. Por lo que debemos contar con este archivo.\n",
    "\n",
    "\n",
    "Podemos observar que las mediciones se realizaron durante el invierno, durante el mes de diciembre de 2017. Y se registraron cada 10 segundos, eso nos da 4320 mediciones."
   ]
  },
  {
   "cell_type": "code",
   "execution_count": 1,
   "id": "1f7a7f9f",
   "metadata": {
    "scrolled": true
   },
   "outputs": [
    {
     "data": {
      "text/html": [
       "<div>\n",
       "<style scoped>\n",
       "    .dataframe tbody tr th:only-of-type {\n",
       "        vertical-align: middle;\n",
       "    }\n",
       "\n",
       "    .dataframe tbody tr th {\n",
       "        vertical-align: top;\n",
       "    }\n",
       "\n",
       "    .dataframe thead th {\n",
       "        text-align: right;\n",
       "    }\n",
       "</style>\n",
       "<table border=\"1\" class=\"dataframe\">\n",
       "  <thead>\n",
       "    <tr style=\"text-align: right;\">\n",
       "      <th></th>\n",
       "      <th>YYYY</th>\n",
       "      <th>MM</th>\n",
       "      <th>DD</th>\n",
       "      <th>hh</th>\n",
       "      <th>mm</th>\n",
       "      <th>WS_80mA_mean</th>\n",
       "      <th>WS_80mA_min</th>\n",
       "      <th>WS_80mA_max</th>\n",
       "      <th>WS_80mA_stdev</th>\n",
       "      <th>WS_80mB_mean</th>\n",
       "      <th>...</th>\n",
       "      <th>Rad_80m_stdev</th>\n",
       "      <th>DENSIDAD_15m_mean</th>\n",
       "      <th>DENSIDAD_15m_min</th>\n",
       "      <th>DENSIDAD_15m_max</th>\n",
       "      <th>DENSIDAD_15m_stdev</th>\n",
       "      <th>BATERIA_mean</th>\n",
       "      <th>BATERIA_min</th>\n",
       "      <th>BATERIA_max</th>\n",
       "      <th>BATERIA_stdev</th>\n",
       "      <th>Unnamed: 65</th>\n",
       "    </tr>\n",
       "  </thead>\n",
       "  <tbody>\n",
       "    <tr>\n",
       "      <th>0</th>\n",
       "      <td>2017</td>\n",
       "      <td>11</td>\n",
       "      <td>1</td>\n",
       "      <td>0</td>\n",
       "      <td>0</td>\n",
       "      <td>7.9980</td>\n",
       "      <td>5.7843</td>\n",
       "      <td>9.8262</td>\n",
       "      <td>0.81147</td>\n",
       "      <td>8.0441</td>\n",
       "      <td>...</td>\n",
       "      <td>0.0</td>\n",
       "      <td>1.983</td>\n",
       "      <td>1.974</td>\n",
       "      <td>1.992</td>\n",
       "      <td>0.003</td>\n",
       "      <td>12.85</td>\n",
       "      <td>NaN</td>\n",
       "      <td>NaN</td>\n",
       "      <td>NaN</td>\n",
       "      <td>NaN</td>\n",
       "    </tr>\n",
       "    <tr>\n",
       "      <th>1</th>\n",
       "      <td>2017</td>\n",
       "      <td>11</td>\n",
       "      <td>1</td>\n",
       "      <td>0</td>\n",
       "      <td>10</td>\n",
       "      <td>7.5565</td>\n",
       "      <td>5.4734</td>\n",
       "      <td>8.8934</td>\n",
       "      <td>0.71261</td>\n",
       "      <td>7.5467</td>\n",
       "      <td>...</td>\n",
       "      <td>0.0</td>\n",
       "      <td>2.008</td>\n",
       "      <td>1.983</td>\n",
       "      <td>2.014</td>\n",
       "      <td>0.004</td>\n",
       "      <td>12.69</td>\n",
       "      <td>NaN</td>\n",
       "      <td>NaN</td>\n",
       "      <td>NaN</td>\n",
       "      <td>NaN</td>\n",
       "    </tr>\n",
       "    <tr>\n",
       "      <th>2</th>\n",
       "      <td>2017</td>\n",
       "      <td>11</td>\n",
       "      <td>1</td>\n",
       "      <td>0</td>\n",
       "      <td>20</td>\n",
       "      <td>7.5254</td>\n",
       "      <td>5.7843</td>\n",
       "      <td>8.8934</td>\n",
       "      <td>0.63488</td>\n",
       "      <td>7.4908</td>\n",
       "      <td>...</td>\n",
       "      <td>0.0</td>\n",
       "      <td>2.004</td>\n",
       "      <td>1.992</td>\n",
       "      <td>2.017</td>\n",
       "      <td>0.006</td>\n",
       "      <td>12.83</td>\n",
       "      <td>NaN</td>\n",
       "      <td>NaN</td>\n",
       "      <td>NaN</td>\n",
       "      <td>NaN</td>\n",
       "    </tr>\n",
       "    <tr>\n",
       "      <th>3</th>\n",
       "      <td>2017</td>\n",
       "      <td>11</td>\n",
       "      <td>1</td>\n",
       "      <td>0</td>\n",
       "      <td>30</td>\n",
       "      <td>6.9534</td>\n",
       "      <td>5.1625</td>\n",
       "      <td>7.9607</td>\n",
       "      <td>0.61436</td>\n",
       "      <td>6.9436</td>\n",
       "      <td>...</td>\n",
       "      <td>0.0</td>\n",
       "      <td>2.024</td>\n",
       "      <td>2.008</td>\n",
       "      <td>2.039</td>\n",
       "      <td>0.006</td>\n",
       "      <td>12.84</td>\n",
       "      <td>NaN</td>\n",
       "      <td>NaN</td>\n",
       "      <td>NaN</td>\n",
       "      <td>NaN</td>\n",
       "    </tr>\n",
       "    <tr>\n",
       "      <th>4</th>\n",
       "      <td>2017</td>\n",
       "      <td>11</td>\n",
       "      <td>1</td>\n",
       "      <td>0</td>\n",
       "      <td>40</td>\n",
       "      <td>6.9658</td>\n",
       "      <td>5.7843</td>\n",
       "      <td>7.9607</td>\n",
       "      <td>0.49746</td>\n",
       "      <td>6.9685</td>\n",
       "      <td>...</td>\n",
       "      <td>0.0</td>\n",
       "      <td>2.044</td>\n",
       "      <td>2.033</td>\n",
       "      <td>2.055</td>\n",
       "      <td>0.005</td>\n",
       "      <td>12.84</td>\n",
       "      <td>NaN</td>\n",
       "      <td>NaN</td>\n",
       "      <td>NaN</td>\n",
       "      <td>NaN</td>\n",
       "    </tr>\n",
       "  </tbody>\n",
       "</table>\n",
       "<p>5 rows × 66 columns</p>\n",
       "</div>"
      ],
      "text/plain": [
       "   YYYY  MM  DD  hh  mm  WS_80mA_mean  WS_80mA_min  WS_80mA_max  \\\n",
       "0  2017  11   1   0   0        7.9980       5.7843       9.8262   \n",
       "1  2017  11   1   0  10        7.5565       5.4734       8.8934   \n",
       "2  2017  11   1   0  20        7.5254       5.7843       8.8934   \n",
       "3  2017  11   1   0  30        6.9534       5.1625       7.9607   \n",
       "4  2017  11   1   0  40        6.9658       5.7843       7.9607   \n",
       "\n",
       "   WS_80mA_stdev  WS_80mB_mean  ...  Rad_80m_stdev  DENSIDAD_15m_mean  \\\n",
       "0        0.81147        8.0441  ...            0.0              1.983   \n",
       "1        0.71261        7.5467  ...            0.0              2.008   \n",
       "2        0.63488        7.4908  ...            0.0              2.004   \n",
       "3        0.61436        6.9436  ...            0.0              2.024   \n",
       "4        0.49746        6.9685  ...            0.0              2.044   \n",
       "\n",
       "   DENSIDAD_15m_min  DENSIDAD_15m_max  DENSIDAD_15m_stdev  BATERIA_mean  \\\n",
       "0             1.974             1.992               0.003         12.85   \n",
       "1             1.983             2.014               0.004         12.69   \n",
       "2             1.992             2.017               0.006         12.83   \n",
       "3             2.008             2.039               0.006         12.84   \n",
       "4             2.033             2.055               0.005         12.84   \n",
       "\n",
       "   BATERIA_min  BATERIA_max  BATERIA_stdev  Unnamed: 65  \n",
       "0          NaN          NaN            NaN          NaN  \n",
       "1          NaN          NaN            NaN          NaN  \n",
       "2          NaN          NaN            NaN          NaN  \n",
       "3          NaN          NaN            NaN          NaN  \n",
       "4          NaN          NaN            NaN          NaN  \n",
       "\n",
       "[5 rows x 66 columns]"
      ]
     },
     "execution_count": 1,
     "metadata": {},
     "output_type": "execute_result"
    }
   ],
   "source": [
    "import pandas as pd\n",
    "\n",
    "df = pd.read_csv('M06_201711.txt', skiprows=[1,2], sep=\" \")\n",
    "df.head()"
   ]
  },
  {
   "cell_type": "code",
   "execution_count": 2,
   "id": "c0af0c19",
   "metadata": {},
   "outputs": [
    {
     "data": {
      "text/html": [
       "<div>\n",
       "<style scoped>\n",
       "    .dataframe tbody tr th:only-of-type {\n",
       "        vertical-align: middle;\n",
       "    }\n",
       "\n",
       "    .dataframe tbody tr th {\n",
       "        vertical-align: top;\n",
       "    }\n",
       "\n",
       "    .dataframe thead th {\n",
       "        text-align: right;\n",
       "    }\n",
       "</style>\n",
       "<table border=\"1\" class=\"dataframe\">\n",
       "  <thead>\n",
       "    <tr style=\"text-align: right;\">\n",
       "      <th></th>\n",
       "      <th>Vel [m/s]</th>\n",
       "      <th>Pow[kW]</th>\n",
       "    </tr>\n",
       "  </thead>\n",
       "  <tbody>\n",
       "    <tr>\n",
       "      <th>0</th>\n",
       "      <td>0</td>\n",
       "      <td>0</td>\n",
       "    </tr>\n",
       "    <tr>\n",
       "      <th>1</th>\n",
       "      <td>1</td>\n",
       "      <td>0</td>\n",
       "    </tr>\n",
       "    <tr>\n",
       "      <th>2</th>\n",
       "      <td>2</td>\n",
       "      <td>0</td>\n",
       "    </tr>\n",
       "    <tr>\n",
       "      <th>3</th>\n",
       "      <td>3</td>\n",
       "      <td>61</td>\n",
       "    </tr>\n",
       "    <tr>\n",
       "      <th>4</th>\n",
       "      <td>4</td>\n",
       "      <td>156</td>\n",
       "    </tr>\n",
       "  </tbody>\n",
       "</table>\n",
       "</div>"
      ],
      "text/plain": [
       "   Vel [m/s]  Pow[kW]\n",
       "0          0        0\n",
       "1          1        0\n",
       "2          2        0\n",
       "3          3       61\n",
       "4          4      156"
      ]
     },
     "execution_count": 2,
     "metadata": {},
     "output_type": "execute_result"
    }
   ],
   "source": [
    "vestas=pd.read_csv('Vestas.csv')\n",
    "vestas.head()"
   ]
  },
  {
   "cell_type": "code",
   "execution_count": 3,
   "id": "6aa2ec95-cf95-4446-98a5-fe93476936ac",
   "metadata": {},
   "outputs": [
    {
     "name": "stdout",
     "output_type": "stream",
     "text": [
      "Requirement already satisfied: bs4 in /home/jupyterlab/conda/envs/python/lib/python3.6/site-packages (0.0.1)\n",
      "Requirement already satisfied: beautifulsoup4 in /home/jupyterlab/conda/envs/python/lib/python3.6/site-packages (from bs4) (4.9.3)\n",
      "Requirement already satisfied: soupsieve>1.2; python_version >= \"3.0\" in /home/jupyterlab/conda/envs/python/lib/python3.6/site-packages (from beautifulsoup4->bs4) (2.2.1)\n",
      "Requirement already satisfied: geopy in /home/jupyterlab/conda/envs/python/lib/python3.6/site-packages (2.2.0)\n",
      "Requirement already satisfied: geographiclib<2,>=1.49 in /home/jupyterlab/conda/envs/python/lib/python3.6/site-packages (from geopy) (1.52)\n",
      "Libraries imported.\n"
     ]
    }
   ],
   "source": [
    "import pandas as pd \n",
    "import numpy as np\n",
    "import re \n",
    "import dateutil\n",
    "\n",
    "!pip install bs4\n",
    "from bs4 import BeautifulSoup\n",
    "import requests\n",
    "\n",
    "import matplotlib.cm as cm\n",
    "import matplotlib.colors as colors\n",
    "\n",
    "from pandas.io.json import json_normalize # librería para convertir un archivo json en un dataframe pandas\n",
    "import csv\n",
    "# importar k-means desde la fase de agrupación\n",
    "from sklearn.cluster import KMeans\n",
    "\n",
    "\n",
    "#!conda install -c conda-forge folium=0.5.0 --yes # retirar el comentario de esta línea si no ha completado el laboratorio de la API de FourSquare\n",
    "import folium # librería para graficar mapas \n",
    "\n",
    "!pip install geopy\n",
    "from geopy.geocoders import Nominatim # convertir una dirección en valores de latitud y longitud\n",
    "\n",
    "print('Libraries imported.')"
   ]
  },
  {
   "cell_type": "markdown",
   "id": "d0c44928-289d-4739-b97e-63f257e3f71a",
   "metadata": {},
   "source": [
    "### Visualicemos el lugar"
   ]
  },
  {
   "cell_type": "code",
   "execution_count": 4,
   "id": "dc1662e6-4d43-4a38-a143-7af01d9a2c5b",
   "metadata": {},
   "outputs": [
    {
     "name": "stdout",
     "output_type": "stream",
     "text": [
      "The geograpical coordinate of Toronto are 39.7497703, -89.444812.\n"
     ]
    }
   ],
   "source": [
    "address = 'Buckhart, Ilinois'\n",
    "\n",
    "geolocator = Nominatim(user_agent=\"ny_explorer\")\n",
    "location = geolocator.geocode(address)\n",
    "latitude = location.latitude\n",
    "longitude = location.longitude\n",
    "print('The geograpical coordinate of Toronto are {}, {}.'.format(latitude, longitude))\n"
   ]
  },
  {
   "cell_type": "code",
   "execution_count": null,
   "id": "3e3e4883-e8af-4166-85a1-623680ebb952",
   "metadata": {},
   "outputs": [],
   "source": [
    "# Creemos"
   ]
  },
  {
   "cell_type": "code",
   "execution_count": 5,
   "id": "7d81a371-8ef7-4628-ac28-426c9996f42d",
   "metadata": {},
   "outputs": [
    {
     "data": {
      "text/html": [
       "<div style=\"width:100%;\"><div style=\"position:relative;width:100%;height:0;padding-bottom:60%;\"><span style=\"color:#565656\">Make this Notebook Trusted to load map: File -> Trust Notebook</span><iframe src=\"about:blank\" style=\"position:absolute;width:100%;height:100%;left:0;top:0;border:none !important;\" data-html=%3C%21DOCTYPE%20html%3E%0A%3Chead%3E%20%20%20%20%0A%20%20%20%20%3Cmeta%20http-equiv%3D%22content-type%22%20content%3D%22text/html%3B%20charset%3DUTF-8%22%20/%3E%0A%20%20%20%20%3Cscript%3EL_PREFER_CANVAS%20%3D%20false%3B%20L_NO_TOUCH%20%3D%20false%3B%20L_DISABLE_3D%20%3D%20false%3B%3C/script%3E%0A%20%20%20%20%3Cscript%20src%3D%22https%3A//cdn.jsdelivr.net/npm/leaflet%401.2.0/dist/leaflet.js%22%3E%3C/script%3E%0A%20%20%20%20%3Cscript%20src%3D%22https%3A//ajax.googleapis.com/ajax/libs/jquery/1.11.1/jquery.min.js%22%3E%3C/script%3E%0A%20%20%20%20%3Cscript%20src%3D%22https%3A//maxcdn.bootstrapcdn.com/bootstrap/3.2.0/js/bootstrap.min.js%22%3E%3C/script%3E%0A%20%20%20%20%3Cscript%20src%3D%22https%3A//cdnjs.cloudflare.com/ajax/libs/Leaflet.awesome-markers/2.0.2/leaflet.awesome-markers.js%22%3E%3C/script%3E%0A%20%20%20%20%3Clink%20rel%3D%22stylesheet%22%20href%3D%22https%3A//cdn.jsdelivr.net/npm/leaflet%401.2.0/dist/leaflet.css%22/%3E%0A%20%20%20%20%3Clink%20rel%3D%22stylesheet%22%20href%3D%22https%3A//maxcdn.bootstrapcdn.com/bootstrap/3.2.0/css/bootstrap.min.css%22/%3E%0A%20%20%20%20%3Clink%20rel%3D%22stylesheet%22%20href%3D%22https%3A//maxcdn.bootstrapcdn.com/bootstrap/3.2.0/css/bootstrap-theme.min.css%22/%3E%0A%20%20%20%20%3Clink%20rel%3D%22stylesheet%22%20href%3D%22https%3A//maxcdn.bootstrapcdn.com/font-awesome/4.6.3/css/font-awesome.min.css%22/%3E%0A%20%20%20%20%3Clink%20rel%3D%22stylesheet%22%20href%3D%22https%3A//cdnjs.cloudflare.com/ajax/libs/Leaflet.awesome-markers/2.0.2/leaflet.awesome-markers.css%22/%3E%0A%20%20%20%20%3Clink%20rel%3D%22stylesheet%22%20href%3D%22https%3A//rawgit.com/python-visualization/folium/master/folium/templates/leaflet.awesome.rotate.css%22/%3E%0A%20%20%20%20%3Cstyle%3Ehtml%2C%20body%20%7Bwidth%3A%20100%25%3Bheight%3A%20100%25%3Bmargin%3A%200%3Bpadding%3A%200%3B%7D%3C/style%3E%0A%20%20%20%20%3Cstyle%3E%23map%20%7Bposition%3Aabsolute%3Btop%3A0%3Bbottom%3A0%3Bright%3A0%3Bleft%3A0%3B%7D%3C/style%3E%0A%20%20%20%20%0A%20%20%20%20%20%20%20%20%20%20%20%20%3Cstyle%3E%20%23map_d84f537712a1413b824992faff330a7f%20%7B%0A%20%20%20%20%20%20%20%20%20%20%20%20%20%20%20%20position%20%3A%20relative%3B%0A%20%20%20%20%20%20%20%20%20%20%20%20%20%20%20%20width%20%3A%20100.0%25%3B%0A%20%20%20%20%20%20%20%20%20%20%20%20%20%20%20%20height%3A%20100.0%25%3B%0A%20%20%20%20%20%20%20%20%20%20%20%20%20%20%20%20left%3A%200.0%25%3B%0A%20%20%20%20%20%20%20%20%20%20%20%20%20%20%20%20top%3A%200.0%25%3B%0A%20%20%20%20%20%20%20%20%20%20%20%20%20%20%20%20%7D%0A%20%20%20%20%20%20%20%20%20%20%20%20%3C/style%3E%0A%20%20%20%20%20%20%20%20%0A%3C/head%3E%0A%3Cbody%3E%20%20%20%20%0A%20%20%20%20%0A%20%20%20%20%20%20%20%20%20%20%20%20%3Cdiv%20class%3D%22folium-map%22%20id%3D%22map_d84f537712a1413b824992faff330a7f%22%20%3E%3C/div%3E%0A%20%20%20%20%20%20%20%20%0A%3C/body%3E%0A%3Cscript%3E%20%20%20%20%0A%20%20%20%20%0A%0A%20%20%20%20%20%20%20%20%20%20%20%20%0A%20%20%20%20%20%20%20%20%20%20%20%20%20%20%20%20var%20bounds%20%3D%20null%3B%0A%20%20%20%20%20%20%20%20%20%20%20%20%0A%0A%20%20%20%20%20%20%20%20%20%20%20%20var%20map_d84f537712a1413b824992faff330a7f%20%3D%20L.map%28%0A%20%20%20%20%20%20%20%20%20%20%20%20%20%20%20%20%20%20%20%20%20%20%20%20%20%20%20%20%20%20%20%20%20%20%27map_d84f537712a1413b824992faff330a7f%27%2C%0A%20%20%20%20%20%20%20%20%20%20%20%20%20%20%20%20%20%20%20%20%20%20%20%20%20%20%20%20%20%20%20%20%20%20%7Bcenter%3A%20%5B39.7497703%2C-89.444812%5D%2C%0A%20%20%20%20%20%20%20%20%20%20%20%20%20%20%20%20%20%20%20%20%20%20%20%20%20%20%20%20%20%20%20%20%20%20zoom%3A%2010%2C%0A%20%20%20%20%20%20%20%20%20%20%20%20%20%20%20%20%20%20%20%20%20%20%20%20%20%20%20%20%20%20%20%20%20%20maxBounds%3A%20bounds%2C%0A%20%20%20%20%20%20%20%20%20%20%20%20%20%20%20%20%20%20%20%20%20%20%20%20%20%20%20%20%20%20%20%20%20%20layers%3A%20%5B%5D%2C%0A%20%20%20%20%20%20%20%20%20%20%20%20%20%20%20%20%20%20%20%20%20%20%20%20%20%20%20%20%20%20%20%20%20%20worldCopyJump%3A%20false%2C%0A%20%20%20%20%20%20%20%20%20%20%20%20%20%20%20%20%20%20%20%20%20%20%20%20%20%20%20%20%20%20%20%20%20%20crs%3A%20L.CRS.EPSG3857%0A%20%20%20%20%20%20%20%20%20%20%20%20%20%20%20%20%20%20%20%20%20%20%20%20%20%20%20%20%20%20%20%20%20%7D%29%3B%0A%20%20%20%20%20%20%20%20%20%20%20%20%0A%20%20%20%20%20%20%20%20%0A%20%20%20%20%0A%20%20%20%20%20%20%20%20%20%20%20%20var%20tile_layer_a9bc950906e74a7a9e26b9c08ab44cc9%20%3D%20L.tileLayer%28%0A%20%20%20%20%20%20%20%20%20%20%20%20%20%20%20%20%27https%3A//%7Bs%7D.tile.openstreetmap.org/%7Bz%7D/%7Bx%7D/%7By%7D.png%27%2C%0A%20%20%20%20%20%20%20%20%20%20%20%20%20%20%20%20%7B%0A%20%20%22attribution%22%3A%20null%2C%0A%20%20%22detectRetina%22%3A%20false%2C%0A%20%20%22maxZoom%22%3A%2018%2C%0A%20%20%22minZoom%22%3A%201%2C%0A%20%20%22noWrap%22%3A%20false%2C%0A%20%20%22subdomains%22%3A%20%22abc%22%0A%7D%0A%20%20%20%20%20%20%20%20%20%20%20%20%20%20%20%20%29.addTo%28map_d84f537712a1413b824992faff330a7f%29%3B%0A%20%20%20%20%20%20%20%20%0A%3C/script%3E onload=\"this.contentDocument.open();this.contentDocument.write(    decodeURIComponent(this.getAttribute('data-html')));this.contentDocument.close();\" allowfullscreen webkitallowfullscreen mozallowfullscreen></iframe></div></div>"
      ],
      "text/plain": [
       "<folium.folium.Map at 0x7f48bdbc98d0>"
      ]
     },
     "execution_count": 5,
     "metadata": {},
     "output_type": "execute_result"
    }
   ],
   "source": [
    "# crear un mapa de toronto utilizando los valores de latitud y longitud\n",
    "map_Ilinois = folium.Map(location=[latitude, longitude], zoom_start=10)\n",
    "\n",
    "    \n",
    "map_Ilinois"
   ]
  },
  {
   "cell_type": "markdown",
   "id": "1710cf95-32cc-4f0d-ade0-e86ca8a1ea23",
   "metadata": {},
   "source": [
    "A continuación vamos a empezar a utilizar el API de FourSquare para explorar los barrios y segmentarlos.\n",
    "#### Definir la versión y credenciales de FourSquare"
   ]
  },
  {
   "cell_type": "code",
   "execution_count": 6,
   "id": "4bea8a6e-77ca-4b92-bc9d-cfec4616342b",
   "metadata": {},
   "outputs": [
    {
     "name": "stdout",
     "output_type": "stream",
     "text": [
      "Your credentails:\n",
      "CLIENT_ID: Z4W0ZODRAKWJWDZYSRVDAJVLWZEZHDN0HSTXZHHNCZF0NO1G\n",
      "CLIENT_SECRET:XIOHP0MCXD1MVBE2UGQEYFNAMM0V4EBJUWLOICN2QNG02BSX\n"
     ]
    }
   ],
   "source": [
    "CLIENT_ID = 'Z4W0ZODRAKWJWDZYSRVDAJVLWZEZHDN0HSTXZHHNCZF0NO1G' # su ID de Foursquare\n",
    "CLIENT_SECRET = 'XIOHP0MCXD1MVBE2UGQEYFNAMM0V4EBJUWLOICN2QNG02BSX' # Secreto de Foursquare\n",
    "VERSION = '20180605' # versión de la API de Foursquare\n",
    "LIMIT = 100 # Un valor límite para la API de Foursquare\n",
    "\n",
    "print('Your credentails:')\n",
    "print('CLIENT_ID: ' + CLIENT_ID)\n",
    "print('CLIENT_SECRET:' + CLIENT_SECRET)"
   ]
  },
  {
   "cell_type": "code",
   "execution_count": null,
   "id": "28980280-4cdf-4ffb-b2ce-290cc8e0348f",
   "metadata": {},
   "outputs": [],
   "source": []
  },
  {
   "cell_type": "code",
   "execution_count": 7,
   "id": "da02cab1-d957-4455-b047-25d53fb30e66",
   "metadata": {},
   "outputs": [],
   "source": [
    "#Coordenadas del lugar de interés donde se pondrá el aerogenerador\n",
    "neighborhood_latitude=39.7497703\n",
    "neighborhood_longitude=-89.444812"
   ]
  },
  {
   "cell_type": "code",
   "execution_count": 8,
   "id": "321b9da8-f4f6-40d5-a445-89511ab630f6",
   "metadata": {},
   "outputs": [
    {
     "ename": "SyntaxError",
     "evalue": "invalid syntax (<ipython-input-8-ec5c06083301>, line 2)",
     "output_type": "error",
     "traceback": [
      "\u001b[0;36m  File \u001b[0;32m\"<ipython-input-8-ec5c06083301>\"\u001b[0;36m, line \u001b[0;32m2\u001b[0m\n\u001b[0;31m    Primero, generemos una URL de solicitud GET. Nombre su URL **url**.\u001b[0m\n\u001b[0m                         ^\u001b[0m\n\u001b[0;31mSyntaxError\u001b[0m\u001b[0;31m:\u001b[0m invalid syntax\n"
     ]
    }
   ],
   "source": [
    "#### Obtengamos los 100 sitios en Regent Park dentro de un radio de 500 metros.\n",
    "Primero, generemos una URL de solicitud GET. Nombre su URL **url**."
   ]
  },
  {
   "cell_type": "code",
   "execution_count": null,
   "id": "ab9d273a-d3dd-469d-82fc-0a3c5796a4d5",
   "metadata": {},
   "outputs": [],
   "source": [
    "LIMIT = 100 # limit of number of venues returned by Foursquare API\n",
    "radius = 500 # define radius\n",
    "url = 'https://api.foursquare.com/v2/venues/explore?&client_id={}&client_secret={}&v={}&ll={},{}&radius={}&limit={}'.format(\n",
    "    CLIENT_ID, \n",
    "    CLIENT_SECRET, \n",
    "    VERSION, \n",
    "    neighborhood_latitude, \n",
    "    neighborhood_longitude, \n",
    "    radius, \n",
    "    LIMIT)\n",
    "url # "
   ]
  },
  {
   "cell_type": "code",
   "execution_count": null,
   "id": "56d39b16-d1bc-4914-873c-681af7f21e2f",
   "metadata": {},
   "outputs": [],
   "source": [
    "results = requests.get(url).json()\n",
    "results"
   ]
  },
  {
   "cell_type": "markdown",
   "id": "6b1733e8-2d06-442e-a23b-12f78e7a6952",
   "metadata": {},
   "source": [
    "Toda la información esta en la llave _items_. Antes de avanzar, usemos la función **get_category_type**."
   ]
  },
  {
   "cell_type": "code",
   "execution_count": null,
   "id": "801a4b91-666c-46ee-9f72-6e03c74e382b",
   "metadata": {},
   "outputs": [],
   "source": [
    "# función para extraer la categoria del sitio\n",
    "def get_category_type(row):\n",
    "    try:\n",
    "        categories_list = row['categories']\n",
    "    except:\n",
    "        categories_list = row['venue.categories']\n",
    "        \n",
    "    if len(categories_list) == 0:\n",
    "        return None\n",
    "    else:\n",
    "        return categories_list[0]['name']"
   ]
  },
  {
   "cell_type": "code",
   "execution_count": null,
   "id": "2663df8e-5ef2-4788-8a9a-4c21a6af49aa",
   "metadata": {},
   "outputs": [],
   "source": [
    "venues = results['response']['groups'][0]['items']\n",
    "    \n",
    "nearby_venues = json_normalize(venues) # objeto JSON\n",
    "\n",
    "# filtrar columnas\n",
    "filtered_columns = ['venue.name', 'venue.categories', 'venue.location.lat', 'venue.location.lng']\n",
    "nearby_venues =nearby_venues.loc[:, filtered_columns]\n",
    "\n",
    "# filtrar la categoría para cada fila\n",
    "nearby_venues['venue.categories'] = nearby_venues.apply(get_category_type, axis=1)\n",
    "\n",
    "# limpiar columnas\n",
    "nearby_venues.columns = [col.split(\".\")[-1] for col in nearby_venues.columns]\n",
    "\n",
    "nearby_venues.head()"
   ]
  },
  {
   "cell_type": "markdown",
   "id": "7cb65a16-a793-4d0b-9c3f-1d7a5d694aa2",
   "metadata": {},
   "source": [
    "Podemos ver que hay un bar y un aparente gimnasio por lo que podríamos deducir que es un lugar concurrido y no un campo abierto, por lo que no sería recomendable instalar un Vestas \"MW\"."
   ]
  },
  {
   "cell_type": "code",
   "execution_count": null,
   "id": "dabd1d05-91f1-41fd-a2cd-b1cba969a065",
   "metadata": {},
   "outputs": [],
   "source": []
  }
 ],
 "metadata": {
  "kernelspec": {
   "display_name": "Python",
   "language": "python",
   "name": "conda-env-python-py"
  },
  "language_info": {
   "codemirror_mode": {
    "name": "ipython",
    "version": 3
   },
   "file_extension": ".py",
   "mimetype": "text/x-python",
   "name": "python",
   "nbconvert_exporter": "python",
   "pygments_lexer": "ipython3",
   "version": "3.6.13"
  }
 },
 "nbformat": 4,
 "nbformat_minor": 5
}
